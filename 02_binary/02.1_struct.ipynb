{
 "cells": [
  {
   "cell_type": "markdown",
   "metadata": {},
   "source": [
    "struct는 c언어로 만든 구조체 이진 데이터 처리할때 활용 모듈"
   ]
  },
  {
   "cell_type": "code",
   "execution_count": 7,
   "metadata": {},
   "outputs": [
    {
     "name": "stdout",
     "output_type": "stream",
     "text": [
      "(2.6529260140087887e+180, 1953709088, b'd', b'i', b'o', b'.')\n"
     ]
    }
   ],
   "source": [
    "import struct\n",
    "with open('struct_sample.c', 'rb') as f:\n",
    "    chunk = f.read(16)\n",
    "    result = struct.unpack('dicccc', chunk)\n",
    "    print(result)"
   ]
  },
  {
   "cell_type": "code",
   "execution_count": 8,
   "metadata": {},
   "outputs": [
    {
     "data": {
      "text/plain": [
       "b'\\x00\\x00\\x00\\x00\\x00\\x00\\x1e@\\x0f\\x00\\x00\\x00A\\x00\\x00\\x00'"
      ]
     },
     "execution_count": 8,
     "metadata": {},
     "output_type": "execute_result"
    }
   ],
   "source": [
    "struct.pack('dicccc', 7.5, 15, b'A', b'\\x00', b'\\x00', b'\\x00')"
   ]
  }
 ],
 "metadata": {
  "kernelspec": {
   "display_name": ".venv",
   "language": "python",
   "name": "python3"
  },
  "language_info": {
   "codemirror_mode": {
    "name": "ipython",
    "version": 3
   },
   "file_extension": ".py",
   "mimetype": "text/x-python",
   "name": "python",
   "nbconvert_exporter": "python",
   "pygments_lexer": "ipython3",
   "version": "3.10.6"
  },
  "orig_nbformat": 4
 },
 "nbformat": 4,
 "nbformat_minor": 2
}
