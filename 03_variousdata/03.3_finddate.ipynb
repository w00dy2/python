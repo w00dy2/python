{
 "cells": [
  {
   "cell_type": "markdown",
   "metadata": {},
   "source": [
    "윤년찾기"
   ]
  },
  {
   "cell_type": "markdown",
   "metadata": {},
   "source": [
    "0 년\n",
    "1 년\n",
    "4 년\n",
    "1200 년\n",
    "700 년\n",
    "2020 년\n",
    "이중 윤년을 찾아보자ㅣ"
   ]
  },
  {
   "cell_type": "markdown",
   "metadata": {},
   "source": [
    "1. 서력 기원 연수가 4로 나누어 떨어지는 해는 우선 윤년으로 한다.<br>\n",
    "2. 그중에서 100으로 나누어 떨어지는 해는 평년으로 한다.<br>\n",
    "3. 400으로 나누어 떨어지는 해는 다시 윤년으로 정한다.<br>"
   ]
  },
  {
   "cell_type": "code",
   "execution_count": 14,
   "metadata": {},
   "outputs": [],
   "source": [
    "def is_leap_year(year):\n",
    "    if year % 400 == 0:\n",
    "        return True\n",
    "    if year % 100 == 0:\n",
    "        return False\n",
    "    if year % 4 == 0:\n",
    "        return True\n",
    "    return False"
   ]
  },
  {
   "cell_type": "code",
   "execution_count": 7,
   "metadata": {},
   "outputs": [],
   "source": [
    "list = [0,1,4,1200,700,2020]"
   ]
  },
  {
   "cell_type": "code",
   "execution_count": 15,
   "metadata": {},
   "outputs": [
    {
     "name": "stdout",
     "output_type": "stream",
     "text": [
      "0 : True\n",
      "1 : False\n",
      "4 : True\n",
      "1200 : True\n",
      "700 : False\n",
      "2020 : True\n"
     ]
    }
   ],
   "source": [
    "for i in list:\n",
    "    print(i,\":\",is_leap_year(i))"
   ]
  },
  {
   "cell_type": "markdown",
   "metadata": {},
   "source": [
    "하지만 이미 미리 정의 되어있다."
   ]
  },
  {
   "cell_type": "code",
   "execution_count": 16,
   "metadata": {},
   "outputs": [],
   "source": [
    "import calendar"
   ]
  },
  {
   "cell_type": "code",
   "execution_count": 19,
   "metadata": {},
   "outputs": [
    {
     "name": "stdout",
     "output_type": "stream",
     "text": [
      "0 True\n",
      "1 False\n",
      "4 True\n",
      "1200 True\n",
      "700 False\n",
      "2020 True\n"
     ]
    }
   ],
   "source": [
    "for i in list:\n",
    "    print(i,calendar.isleap(i))"
   ]
  }
 ],
 "metadata": {
  "kernelspec": {
   "display_name": ".venv",
   "language": "python",
   "name": "python3"
  },
  "language_info": {
   "codemirror_mode": {
    "name": "ipython",
    "version": 3
   },
   "file_extension": ".py",
   "mimetype": "text/x-python",
   "name": "python",
   "nbconvert_exporter": "python",
   "pygments_lexer": "ipython3",
   "version": "3.10.6"
  },
  "orig_nbformat": 4
 },
 "nbformat": 4,
 "nbformat_minor": 2
}
