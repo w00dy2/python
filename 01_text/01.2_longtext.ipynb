{
 "cells": [
  {
   "cell_type": "code",
   "execution_count": 1,
   "metadata": {},
   "outputs": [],
   "source": [
    "long_text = 'Life is too short , you need python.' * 10"
   ]
  },
  {
   "cell_type": "code",
   "execution_count": 2,
   "metadata": {},
   "outputs": [
    {
     "data": {
      "text/plain": [
       "'Life is too short , you need python.Life is too short , you need python.Life is too short , you need python.Life is too short , you need python.Life is too short , you need python.Life is too short , you need python.Life is too short , you need python.Life is too short , you need python.Life is too short , you need python.Life is too short , you need python.'"
      ]
     },
     "execution_count": 2,
     "metadata": {},
     "output_type": "execute_result"
    }
   ],
   "source": [
    "long_text"
   ]
  },
  {
   "cell_type": "markdown",
   "metadata": {},
   "source": [
    "줄바꾸기를 하려면 textwrap.wrap()을 소환"
   ]
  },
  {
   "cell_type": "code",
   "execution_count": 5,
   "metadata": {},
   "outputs": [
    {
     "data": {
      "text/plain": [
       "['Life is too short , you need python.Life is too short , you need',\n",
       " 'python.Life is too short , you need python.Life is too short , you',\n",
       " 'need python.Life is too short , you need python.Life is too short ,',\n",
       " 'you need python.Life is too short , you need python.Life is too short',\n",
       " ', you need python.Life is too short , you need python.Life is too',\n",
       " 'short , you need python.']"
      ]
     },
     "execution_count": 5,
     "metadata": {},
     "output_type": "execute_result"
    }
   ],
   "source": [
    "import textwrap\n",
    "result=textwrap.wrap(long_text, width = 70)\n",
    "result"
   ]
  },
  {
   "cell_type": "markdown",
   "metadata": {},
   "source": [
    "join 함수로 문자열 사이에 줄바꿈 문자 \\n을 이용하여 하나로 합친다음 출력하기"
   ]
  },
  {
   "cell_type": "code",
   "execution_count": 6,
   "metadata": {},
   "outputs": [
    {
     "name": "stdout",
     "output_type": "stream",
     "text": [
      "Life is too short , you need python.Life is too short , you need\n",
      "python.Life is too short , you need python.Life is too short , you\n",
      "need python.Life is too short , you need python.Life is too short ,\n",
      "you need python.Life is too short , you need python.Life is too short\n",
      ", you need python.Life is too short , you need python.Life is too\n",
      "short , you need python.\n"
     ]
    }
   ],
   "source": [
    "print('\\n'.join(result))"
   ]
  },
  {
   "cell_type": "markdown",
   "metadata": {},
   "source": [
    "이과정을 줄여서 한번에 가능하다.<br>"
   ]
  },
  {
   "cell_type": "code",
   "execution_count": 7,
   "metadata": {},
   "outputs": [],
   "source": [
    "result = textwrap.fill(long_text, width = 70)"
   ]
  },
  {
   "cell_type": "code",
   "execution_count": 10,
   "metadata": {},
   "outputs": [
    {
     "name": "stdout",
     "output_type": "stream",
     "text": [
      "Life is too short , you need python.Life is too short , you need\n",
      "python.Life is too short , you need python.Life is too short , you\n",
      "need python.Life is too short , you need python.Life is too short ,\n",
      "you need python.Life is too short , you need python.Life is too short\n",
      ", you need python.Life is too short , you need python.Life is too\n",
      "short , you need python.\n"
     ]
    }
   ],
   "source": [
    "print(result)"
   ]
  }
 ],
 "metadata": {
  "kernelspec": {
   "display_name": ".venv",
   "language": "python",
   "name": "python3"
  },
  "language_info": {
   "codemirror_mode": {
    "name": "ipython",
    "version": 3
   },
   "file_extension": ".py",
   "mimetype": "text/x-python",
   "name": "python",
   "nbconvert_exporter": "python",
   "pygments_lexer": "ipython3",
   "version": "3.10.6"
  },
  "orig_nbformat": 4
 },
 "nbformat": 4,
 "nbformat_minor": 2
}
